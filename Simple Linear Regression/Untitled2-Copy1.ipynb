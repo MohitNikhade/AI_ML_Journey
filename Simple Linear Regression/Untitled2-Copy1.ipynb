{
 "cells": [
  {
   "cell_type": "code",
   "execution_count": null,
   "id": "a2a7a0eb",
   "metadata": {},
   "outputs": [],
   "source": [
    "#----------Import Libraries----------#\n",
    "\n",
    "import pandas as pd\n",
    "import matplotlib.pyplot as plt\n",
    "from sklearn.linear_model import LinearRegression"
   ]
  },
  {
   "cell_type": "code",
   "execution_count": null,
   "id": "bfdc6c43",
   "metadata": {
    "scrolled": true
   },
   "outputs": [],
   "source": [
    "#----------Load the Dataset----------#\n",
    "\n",
    "df = pd.read_csv('https://raw.githubusercontent.com/AdiPersonalWorks/Random/master/student_scores%20-%20student_scores.csv')\n",
    "print(df)"
   ]
  },
  {
   "cell_type": "code",
   "execution_count": null,
   "id": "fb43e9b8",
   "metadata": {},
   "outputs": [],
   "source": [
    "#----------Visualize the Dataset----------#\n",
    "\n",
    "plt.scatter(df['Hours'], df['Scores'])\n",
    "plt.title('Hours vs Scores')\n",
    "plt.xlabel('Hours')\n",
    "plt.ylabel('Scores')\n",
    "plt.show()"
   ]
  },
  {
   "cell_type": "code",
   "execution_count": null,
   "id": "c54b1c68",
   "metadata": {},
   "outputs": [],
   "source": [
    "#----------Split the Data into Training and Testing sets----------#\n",
    "\n",
    "X = df.iloc[:, :-1].values\n",
    "y = df.iloc[:, 1].values\n",
    "\n",
    "from sklearn.model_selection import train_test_split\n",
    "X_train, X_test, y_train, y_test = train_test_split(X, y, test_size=0.2, random_state=0)"
   ]
  },
  {
   "cell_type": "code",
   "execution_count": null,
   "id": "b0f731ed",
   "metadata": {},
   "outputs": [],
   "source": [
    "#----------Train the Model----------#\n",
    "\n",
    "model = LinearRegression()\n",
    "model.fit(X_train, y_train)\n",
    "\n",
    "print(\"Intercept for model is:\",model.intercept_)\n",
    "print(\"Coefficient of model is:\",model.coef_)\n",
    "\n",
    "a = model.intercept_\n",
    "b = model.coef_\n",
    "\n",
    "c = float(input(\"Enter Hours you studied for predicting what your score can be \"))\n",
    "Y_pred = a + b*c\n",
    "print(Y_pred)"
   ]
  },
  {
   "cell_type": "code",
   "execution_count": null,
   "id": "294dcb10",
   "metadata": {},
   "outputs": [],
   "source": [
    "#----------Visualize the regression line----------#\n",
    "\n",
    "plt.scatter(X_train, y_train)\n",
    "plt.plot(X_train, model.predict(X_train), color='red')\n",
    "plt.title('Hours vs Scores (Training set)')\n",
    "plt.xlabel('Hours')\n",
    "plt.ylabel('Scores')\n",
    "plt.show()"
   ]
  },
  {
   "cell_type": "code",
   "execution_count": null,
   "id": "4c6208a6",
   "metadata": {},
   "outputs": [],
   "source": [
    "#----------Make Predictions----------#\n",
    "\n",
    "y_pred = model.predict(X_test)"
   ]
  },
  {
   "cell_type": "code",
   "execution_count": null,
   "id": "95a08caf",
   "metadata": {},
   "outputs": [],
   "source": [
    "#----------Evaluate the model----------#\n",
    "\n",
    "from sklearn.metrics import mean_squared_error, r2_score\n",
    "mse = mean_squared_error(y_test, y_pred)\n",
    "r2 = r2_score(y_test, y_pred)\n",
    "print('Mean squared error:', mse)\n",
    "print('Coefficient of determination:', r2)"
   ]
  },
  {
   "cell_type": "code",
   "execution_count": null,
   "id": "d1074b2e",
   "metadata": {},
   "outputs": [],
   "source": []
  }
 ],
 "metadata": {
  "kernelspec": {
   "display_name": "Python 3 (ipykernel)",
   "language": "python",
   "name": "python3"
  },
  "language_info": {
   "codemirror_mode": {
    "name": "ipython",
    "version": 3
   },
   "file_extension": ".py",
   "mimetype": "text/x-python",
   "name": "python",
   "nbconvert_exporter": "python",
   "pygments_lexer": "ipython3",
   "version": "3.9.13"
  }
 },
 "nbformat": 4,
 "nbformat_minor": 5
}
